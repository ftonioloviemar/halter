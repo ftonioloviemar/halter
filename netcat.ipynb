{
 "cells": [
  {
   "cell_type": "code",
   "execution_count": 13,
   "id": "4addd9ac-228c-459c-8bc8-ce624da7ca68",
   "metadata": {},
   "outputs": [
    {
     "name": "stdout",
     "output_type": "stream",
     "text": [
      "vai\n",
      "Received: Servidor Halter Versao 1.05 - Pronto para receber uma linha\n",
      "\n",
      "Received: Linha aceita. Executar halt\n",
      "\n",
      "Received: Halt disparado\n",
      "\n",
      "Connection closed.\n"
     ]
    }
   ],
   "source": [
    "import socket\n",
    "import sys\n",
    "\n",
    "encoding = 'utf-8'\n",
    "\n",
    "def netcat(hostname, port, content):\n",
    "    s = socket.socket(socket.AF_INET, socket.SOCK_STREAM)\n",
    "    s.connect((hostname, port))\n",
    "    content = bytes(str(content).encode('utf-8'))\n",
    "    s.sendall(content)\n",
    "    #s.shutdown(socket.SHUT_WR)\n",
    "    while 1:\n",
    "        data = s.recv(1024)\n",
    "        if len(data) == 0:\n",
    "            break\n",
    "        #data = repr(data)\n",
    "        #data = str(data, encoding=encoding)\n",
    "        print(data)\n",
    "    print('Connection closed.')\n",
    "    s.close()\n",
    "\n",
    "print('netcat iniciado')\n",
    "hostname = sys.argv[1]\n",
    "port = int(sys.argv[2])\n",
    "content = sys.argv[3]\n",
    "\n",
    "#netcat('localhost', 59090, 'abc123')\n",
    "netcat(hostname, port, content + '\\n')"
   ]
  },
  {
   "cell_type": "code",
   "execution_count": null,
   "id": "6ad012a8-55d6-4145-a1e1-6aec2ad71848",
   "metadata": {},
   "outputs": [],
   "source": []
  }
 ],
 "metadata": {
  "kernelspec": {
   "display_name": "Python 3 (ipykernel)",
   "language": "python",
   "name": "python3"
  },
  "language_info": {
   "codemirror_mode": {
    "name": "ipython",
    "version": 3
   },
   "file_extension": ".py",
   "mimetype": "text/x-python",
   "name": "python",
   "nbconvert_exporter": "python",
   "pygments_lexer": "ipython3",
   "version": "3.11.5"
  }
 },
 "nbformat": 4,
 "nbformat_minor": 5
}
